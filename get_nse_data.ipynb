{
  "nbformat": 4,
  "nbformat_minor": 0,
  "metadata": {
    "colab": {
      "name": "get_nse_data.ipynb",
      "provenance": [],
      "authorship_tag": "ABX9TyPkHTvOUIA0z27JwqNebDzJ",
      "include_colab_link": true
    },
    "kernelspec": {
      "name": "python3",
      "display_name": "Python 3"
    }
  },
  "cells": [
    {
      "cell_type": "markdown",
      "metadata": {
        "id": "view-in-github",
        "colab_type": "text"
      },
      "source": [
        "<a href=\"https://colab.research.google.com/github/sanath8107/strategies/blob/main/get_nse_data.ipynb\" target=\"_parent\"><img src=\"https://colab.research.google.com/assets/colab-badge.svg\" alt=\"Open In Colab\"/></a>"
      ]
    },
    {
      "cell_type": "code",
      "metadata": {
        "id": "45D3Fgz7Sbtg"
      },
      "source": [
        "import sys\r\n",
        "\r\n",
        "import requests\r\n",
        "import csv\r\n",
        "import datetime\r\n",
        "\r\n",
        "cookie_url = 'https://www.nseindia.com/get-quotes/derivatives?symbol=BANKNIFTY'\r\n",
        "equity_base_url = 'https://www.nseindia.com/api/historical/cm/equity'\r\n",
        "headers = {'User-Agent': 'Mozilla/5.0 (Windows NT 10.0; Win64; x64) AppleWebKit/537.36 (KHTML, like Gecko) '\r\n",
        "                         'Chrome/87.0.4280.88 Safari/537.36'}\r\n",
        "\r\n",
        "\r\n",
        "def get_urls(scrip, from_date, to_date, instrument_type):\r\n",
        "    url_list = []\r\n",
        "\r\n",
        "    # temp_from_date = from_date\r\n",
        "    from_date = datetime.datetime.strptime(from_date, '%d-%m-%Y')\r\n",
        "    to_date = datetime.datetime.strptime(to_date, '%d-%m-%Y')\r\n",
        "\r\n",
        "    day_diff = (to_date - from_date).days\r\n",
        "    if day_diff < 0:\r\n",
        "        print(\"From date should be earlier\")\r\n",
        "        sys.exit(0)\r\n",
        "    print(\"Difference in days: \", day_diff)\r\n",
        "    temp_date = from_date + datetime.timedelta(days=365 * 2)\r\n",
        "    while temp_date <= to_date:\r\n",
        "        equity_data_url = equity_base_url\r\n",
        "        equity_data_url += '?' + 'symbol=' + scrip.upper()\r\n",
        "        equity_data_url += '&' + 'series=' + '[%22' + instrument_type + '%22]'\r\n",
        "        equity_data_url += '&' + 'from=' + from_date.strftime(\"%d-%m-%Y\")\r\n",
        "        equity_data_url += '&' + 'to=' + temp_date.strftime(\"%d-%m-%Y\")\r\n",
        "        equity_data_url += '&' + 'csv=true'\r\n",
        "        url_list.append(equity_data_url)\r\n",
        "        print(equity_data_url)\r\n",
        "        from_date = temp_date\r\n",
        "        temp_date = from_date + datetime.timedelta(days=365 * 2)\r\n",
        "\r\n",
        "    equity_data_url = equity_base_url\r\n",
        "    equity_data_url += '?' + 'symbol=' + scrip.upper()\r\n",
        "    equity_data_url += '&' + 'series=' + '[%22' + instrument_type + '%22]'\r\n",
        "    equity_data_url += '&' + 'from=' + from_date.strftime(\"%d-%m-%Y\")\r\n",
        "    equity_data_url += '&' + 'to=' + to_date.strftime(\"%d-%m-%Y\")\r\n",
        "    equity_data_url += '&' + 'csv=true'\r\n",
        "    url_list.append(equity_data_url)\r\n",
        "    print(equity_data_url)\r\n",
        "\r\n",
        "    return url_list\r\n",
        "\r\n",
        "\r\n",
        "def get_data(scrip, from_date, to_date, instrument_type):\r\n",
        "    url_list = get_urls(scrip, from_date, to_date, instrument_type)\r\n",
        "    full_data = []\r\n",
        "\r\n",
        "    with requests.session() as s:\r\n",
        "        # load cookies:\r\n",
        "        s.get(cookie_url, headers=headers)\r\n",
        "\r\n",
        "        for url in url_list:\r\n",
        "            _data = s.get(url, headers=headers)  # .json()\r\n",
        "            decoded_content = _data.content.decode('utf-8')\r\n",
        "            cr = csv.reader(decoded_content.splitlines(), delimiter=',')\r\n",
        "            my_list = list(cr)\r\n",
        "            my_list.reverse()\r\n",
        "            title_row = my_list.pop()\r\n",
        "            for row in my_list:\r\n",
        "                full_data.append(row)\r\n",
        "    return full_data, title_row\r\n",
        "\r\n",
        "# def backtest(data, strategy):\r\n",
        "#     return result\r\n",
        "\r\n",
        "\r\n",
        "data, title_row = get_data('MARUTI', '01-10-2017', '10-10-2020', 'EQ')\r\n",
        "# result = backtest(data, macd)\r\n",
        "# print(result.profit_percentage)\r\n",
        "for row in data:\r\n",
        "    print(row)\r\n",
        "print(\"total number of days: \", len(data))"
      ],
      "execution_count": null,
      "outputs": []
    }
  ]
}