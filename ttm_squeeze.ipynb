{
  "nbformat": 4,
  "nbformat_minor": 0,
  "metadata": {
    "colab": {
      "name": "ttm_squeeze.ipynb",
      "provenance": [],
      "authorship_tag": "ABX9TyPLLKO30wTDYILIWK2384b8",
      "include_colab_link": true
    },
    "kernelspec": {
      "name": "python3",
      "display_name": "Python 3"
    }
  },
  "cells": [
    {
      "cell_type": "markdown",
      "metadata": {
        "id": "view-in-github",
        "colab_type": "text"
      },
      "source": [
        "<a href=\"https://colab.research.google.com/github/sanath8107/strategies/blob/main/ttm_squeeze.ipynb\" target=\"_parent\"><img src=\"https://colab.research.google.com/assets/colab-badge.svg\" alt=\"Open In Colab\"/></a>"
      ]
    },
    {
      "cell_type": "markdown",
      "metadata": {
        "id": "tVKKc9IlS6z1"
      },
      "source": [
        "# **TTM Squeeze**\r\n",
        "\r\n",
        "The TTM Squeeze indicator looks at the relationship between Bollinger Bands and Keltner Channels to help identify consolidations and signal when prices are likely to break out \r\n",
        "\r\n",
        "It is more like a screener to shortlist stocks rather than a strategy."
      ]
    },
    {
      "cell_type": "markdown",
      "metadata": {
        "id": "-mnAEp4sUbQ0"
      },
      "source": [
        "Note: The dataset folder should have all the stock data that we want to screen against"
      ]
    },
    {
      "cell_type": "code",
      "metadata": {
        "id": "2JkKrybOQqCf"
      },
      "source": [
        "import os, pandas\r\n",
        "import plotly.graph_objects as plt\r\n",
        "\r\n",
        "dataframes = {}\r\n",
        "\r\n",
        "for filename in os.listdir('datasets'):\r\n",
        "    #print(filename)\r\n",
        "    symbol = filename.split(\".\")[0]\r\n",
        "    #print(symbol)\r\n",
        "    df = pandas.read_csv('datasets/{}'.format(filename))\r\n",
        "    if df.empty:\r\n",
        "        continue\r\n",
        "\r\n",
        "    df['20sma'] = df['Close'].rolling(window=20).mean()\r\n",
        "    df['stddev'] = df['Close'].rolling(window=20).std()\r\n",
        "    df['lower_band'] = df['20sma'] - (2 * df['stddev'])\r\n",
        "    df['upper_band'] = df['20sma'] + (2 * df['stddev'])\r\n",
        "\r\n",
        "    df['TR'] = abs(df['High'] - df['Low'])\r\n",
        "    df['ATR'] = df['TR'].rolling(window=20).mean()\r\n",
        "\r\n",
        "    df['lower_keltner'] = df['20sma'] - (df['ATR'] * 1.5)\r\n",
        "    df['upper_keltner'] = df['20sma'] + (df['ATR'] * 1.5)\r\n",
        "\r\n",
        "    def in_squeeze(df):\r\n",
        "        return df['lower_band'] > df['lower_keltner'] and df['upper_band'] < df['upper_keltner']\r\n",
        "\r\n",
        "    df['squeeze_on'] = df.apply(in_squeeze, axis=1)\r\n",
        "\r\n",
        "    if df.iloc[-3]['squeeze_on'] and not df.iloc[-1]['squeeze_on']:\r\n",
        "        print(\"{} is coming out the squeeze\".format(symbol))\r\n",
        "\r\n",
        "    dataframes[symbol] = df"
      ],
      "execution_count": null,
      "outputs": []
    },
    {
      "cell_type": "code",
      "metadata": {
        "id": "ewaPESklS5uX"
      },
      "source": [
        "def chart(df):\r\n",
        "    candlestick = plt.Candlestick(x=df['Date'], open=df['Open'], high=df['High'], low=df['Low'], close=df['Close'])\r\n",
        "    upper_band = plt.Scatter(x=df['Date'], y=df['upper_band'], name='Upper Bollinger Band', line={'color': 'red'})\r\n",
        "    lower_band = plt.Scatter(x=df['Date'], y=df['lower_band'], name='Lower Bollinger Band', line={'color': 'red'})\r\n",
        "\r\n",
        "    upper_keltner = plt.Scatter(x=df['Date'], y=df['upper_keltner'], name='Upper Keltner Channel', line={'color': 'blue'})\r\n",
        "    lower_keltner = plt.Scatter(x=df['Date'], y=df['lower_keltner'], name='Lower Keltner Channel', line={'color': 'blue'})\r\n",
        "\r\n",
        "    fig = plt.Figure(data=[candlestick, upper_band, lower_band, upper_keltner, lower_keltner])\r\n",
        "    fig.layout.xaxis.type = 'category'\r\n",
        "    fig.layout.xaxis.rangeslider.visible = False\r\n",
        "    fig.show()\r\n",
        "\r\n",
        "df = dataframes['WIPRO-2017']\r\n",
        "chart(df)"
      ],
      "execution_count": null,
      "outputs": []
    }
  ]
}