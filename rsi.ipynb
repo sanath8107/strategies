{
  "nbformat": 4,
  "nbformat_minor": 0,
  "metadata": {
    "colab": {
      "name": "rsi.ipynb",
      "provenance": [],
      "authorship_tag": "ABX9TyO1z8e8cXMeTZH05/s9Nylu",
      "include_colab_link": true
    },
    "kernelspec": {
      "name": "python3",
      "display_name": "Python 3"
    }
  },
  "cells": [
    {
      "cell_type": "markdown",
      "metadata": {
        "id": "view-in-github",
        "colab_type": "text"
      },
      "source": [
        "<a href=\"https://colab.research.google.com/github/sanath8107/strategies/blob/main/rsi.ipynb\" target=\"_parent\"><img src=\"https://colab.research.google.com/assets/colab-badge.svg\" alt=\"Open In Colab\"/></a>"
      ]
    },
    {
      "cell_type": "markdown",
      "metadata": {
        "id": "_76qs9WN4sDH"
      },
      "source": [
        "# **Relative Strength Index**\r\n",
        "\\\r\n",
        "The relative strength index (RSI) is a momentum indicator used in technical analysis that measures the magnitude of recent price changes to evaluate overbought or oversold conditions in the price of a stock or other asset. The RSI is displayed as an oscillator (a line graph that moves between two extremes) and can have a reading from 0 to 100.\r\n",
        "\r\n",
        "\r\n",
        "\r\n",
        "*  An asset is usually considered overbought when the RSI is above 70% and oversold when it is below 30%.\r\n",
        "*   Therefore we buy when RSI < 30 and sell when RSI > 70\r\n",
        "\r\n"
      ]
    },
    {
      "cell_type": "code",
      "metadata": {
        "id": "U-0Gq7lB4kGj"
      },
      "source": [
        ""
      ],
      "execution_count": null,
      "outputs": []
    }
  ]
}