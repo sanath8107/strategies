{
  "nbformat": 4,
  "nbformat_minor": 0,
  "metadata": {
    "colab": {
      "name": "simple_backtest.ipynb",
      "provenance": [],
      "authorship_tag": "ABX9TyNlJhJ3D2QJxQIpIKh+fB21",
      "include_colab_link": true
    },
    "kernelspec": {
      "name": "python3",
      "display_name": "Python 3"
    }
  },
  "cells": [
    {
      "cell_type": "markdown",
      "metadata": {
        "id": "view-in-github",
        "colab_type": "text"
      },
      "source": [
        "<a href=\"https://colab.research.google.com/github/sanath8107/strategies/blob/main/simple_backtest.ipynb\" target=\"_parent\"><img src=\"https://colab.research.google.com/assets/colab-badge.svg\" alt=\"Open In Colab\"/></a>"
      ]
    },
    {
      "cell_type": "markdown",
      "metadata": {
        "id": "cyFd8hXueKrd"
      },
      "source": [
        "A simple backtesting method that takes in the strategey, data as the input and the gives the profit generated from the strategy\r\n",
        "\r\n",
        "More features need to be added such as the confusion matrix, investment required\r\n",
        "\r\n",
        "Author: Chandan"
      ]
    },
    {
      "cell_type": "markdown",
      "metadata": {
        "id": "myBLjASHelKu"
      },
      "source": [
        "# Strategy"
      ]
    },
    {
      "cell_type": "code",
      "metadata": {
        "id": "1ngEYEZzeJjp"
      },
      "source": [
        "#######################  STRATEGY #######################\r\n",
        "\r\n",
        "def macd(data):\r\n",
        "    data = clean_data(data, 'close')\r\n",
        "    short_ema = data['close'].ewm(span=12, adjust=False).mean()\r\n",
        "    # Calculate the long term exponential moving average(EMA)\r\n",
        "    long_ema = data['close'].ewm(span=26, adjust=False).mean()\r\n",
        "    # Calculate the MACD line\r\n",
        "    macd_value = short_ema - long_ema\r\n",
        "    # Calculate the signal line\r\n",
        "    signal = macd_value.ewm(span=9, adjust=False).mean()\r\n",
        "\r\n",
        "    df = pd.DataFrame(list(zip(macd_value, signal)),\r\n",
        "                      columns=['MACD', 'Signal Line'])\r\n",
        "\r\n",
        "    buy = []\r\n",
        "    sell = []\r\n",
        "    flag = -1\r\n",
        "\r\n",
        "    for i in range(0, len(df)):\r\n",
        "        if df['MACD'][i] > df['Signal Line'][i]:\r\n",
        "            sell.append(np.nan)\r\n",
        "            if flag != 1:\r\n",
        "                buy.append(data['close'][i])\r\n",
        "                flag = 1\r\n",
        "            else:\r\n",
        "                buy.append(np.nan)\r\n",
        "        elif df['MACD'][i] < df['Signal Line'][i]:\r\n",
        "            buy.append(np.nan)\r\n",
        "            if flag != 0:\r\n",
        "                sell.append(data['close'][i])\r\n",
        "                flag = 0\r\n",
        "            else:\r\n",
        "                sell.append(np.nan)\r\n",
        "        else:\r\n",
        "            buy.append(np.nan)\r\n",
        "            sell.append(np.nan)\r\n",
        "    buy_sell_points = {'buy': buy, 'sell': sell}\r\n",
        "    return pd.DataFrame.from_dict(buy_sell_points)\r\n",
        "\r\n",
        "#########################################################"
      ],
      "execution_count": null,
      "outputs": []
    },
    {
      "cell_type": "markdown",
      "metadata": {
        "id": "ssNGVxGOepLz"
      },
      "source": [
        "# Get Data"
      ]
    },
    {
      "cell_type": "code",
      "metadata": {
        "id": "Ov4LlCBed_aO"
      },
      "source": [
        "import sys\r\n",
        "\r\n",
        "import requests\r\n",
        "import csv\r\n",
        "import datetime\r\n",
        "import pandas as pd\r\n",
        "import numpy as np\r\n",
        "\r\n",
        "cookie_url = 'https://www.nseindia.com/get-quotes/derivatives?symbol=BANKNIFTY'\r\n",
        "equity_base_url = 'https://www.nseindia.com/api/historical/cm/equity'\r\n",
        "headers = {'User-Agent': 'Mozilla/5.0 (Windows NT 10.0; Win64; x64) AppleWebKit/537.36 (KHTML, like Gecko) '\r\n",
        "                         'Chrome/87.0.4280.88 Safari/537.36'}\r\n",
        "\r\n",
        "\r\n",
        "def get_urls(scrip, from_date, to_date, instrument_type):\r\n",
        "    url_list = []\r\n",
        "\r\n",
        "    # temp_from_date = from_date\r\n",
        "    from_date = datetime.datetime.strptime(from_date, '%d-%m-%Y')\r\n",
        "    to_date = datetime.datetime.strptime(to_date, '%d-%m-%Y')\r\n",
        "\r\n",
        "    day_diff = (to_date - from_date).days\r\n",
        "    if day_diff < 0:\r\n",
        "        print(\"From date should be earlier\")\r\n",
        "        sys.exit(0)\r\n",
        "\r\n",
        "    temp_date = from_date + datetime.timedelta(days=365 * 2)\r\n",
        "    while temp_date <= to_date:\r\n",
        "        equity_data_url = equity_base_url\r\n",
        "        equity_data_url += '?' + 'symbol=' + scrip.upper()\r\n",
        "        equity_data_url += '&' + 'series=' + '[%22' + instrument_type + '%22]'\r\n",
        "        equity_data_url += '&' + 'from=' + from_date.strftime(\"%d-%m-%Y\")\r\n",
        "        equity_data_url += '&' + 'to=' + temp_date.strftime(\"%d-%m-%Y\")\r\n",
        "        equity_data_url += '&' + 'csv=true'\r\n",
        "        url_list.append(equity_data_url)\r\n",
        "        # print(equity_data_url)\r\n",
        "        from_date = temp_date\r\n",
        "        temp_date = from_date + datetime.timedelta(days=365 * 2)\r\n",
        "\r\n",
        "    equity_data_url = equity_base_url\r\n",
        "    equity_data_url += '?' + 'symbol=' + scrip.upper()\r\n",
        "    equity_data_url += '&' + 'series=' + '[%22' + instrument_type + '%22]'\r\n",
        "    equity_data_url += '&' + 'from=' + from_date.strftime(\"%d-%m-%Y\")\r\n",
        "    equity_data_url += '&' + 'to=' + to_date.strftime(\"%d-%m-%Y\")\r\n",
        "    equity_data_url += '&' + 'csv=true'\r\n",
        "    url_list.append(equity_data_url)\r\n",
        "    # print(equity_data_url)\r\n",
        "\r\n",
        "    return url_list\r\n",
        "\r\n",
        "\r\n",
        "def get_data(scrip, from_date, to_date, instrument_type):\r\n",
        "    url_list = get_urls(scrip, from_date, to_date, instrument_type)\r\n",
        "    full_data = []\r\n",
        "\r\n",
        "    with requests.session() as s:\r\n",
        "        # load cookies:\r\n",
        "        s.get(cookie_url, headers=headers)\r\n",
        "\r\n",
        "        for url in url_list:\r\n",
        "            _data = s.get(url, headers=headers)  # .json()\r\n",
        "            decoded_content = _data.content.decode('utf-8')\r\n",
        "            cr = csv.reader(decoded_content.splitlines(), delimiter=',')\r\n",
        "            my_list = list(cr)\r\n",
        "            my_list.reverse()\r\n",
        "            title_row = my_list.pop()\r\n",
        "            for row in my_list:\r\n",
        "                full_data.append(row)\r\n",
        "\r\n",
        "    # convert to dataframe\r\n",
        "    title_row[0] = \"Date\"\r\n",
        "    title_row = [title.strip().lower() for title in title_row]\r\n",
        "    full_data = pd.DataFrame(\r\n",
        "        data=full_data,\r\n",
        "        columns=title_row\r\n",
        "    )\r\n",
        "    full_data.set_index(pd.DatetimeIndex(full_data['date'].values))\r\n",
        "    print(\"Data collection complete, days =\", len(full_data))\r\n",
        "    return full_data\r\n",
        "\r\n",
        "def clean_data(data, which):\r\n",
        "    if which == 'close':\r\n",
        "        data['close'] = data['close'].apply(lambda x: x.replace(',',''))\r\n",
        "        return data\r\n"
      ],
      "execution_count": null,
      "outputs": []
    },
    {
      "cell_type": "markdown",
      "metadata": {
        "id": "RDjD0gB8e9s1"
      },
      "source": [
        "# Backtest and Result"
      ]
    },
    {
      "cell_type": "code",
      "metadata": {
        "id": "gO267bmTe1n0"
      },
      "source": [
        "class Result():\r\n",
        "    def __init__(self, data, buy_sell):\r\n",
        "        self.profit = 0\r\n",
        "        self.profit_percentage = 0\r\n",
        "        self.true_positive = 0\r\n",
        "        self.false_positive = 0\r\n",
        "        self.true_negative = 0\r\n",
        "        self.false_negative = 0\r\n",
        "        self.data = data\r\n",
        "        self.buy_sell = buy_sell\r\n",
        "        self.run()\r\n",
        "\r\n",
        "    def run(self):\r\n",
        "        first_buy = self.buy_sell['buy'].first_valid_index()\r\n",
        "        last_sell = self.buy_sell['sell'].last_valid_index()\r\n",
        "        for i in range(first_buy, last_sell+1):\r\n",
        "            if self.buy_sell['buy'][i] is not np.nan and self.buy_sell['sell'][i] is np.nan:\r\n",
        "                self.profit -= float(self.buy_sell['buy'][i])\r\n",
        "            elif self.buy_sell['buy'][i] is np.nan and self.buy_sell['sell'][i] is not np.nan:\r\n",
        "                self.profit += float(self.buy_sell['sell'][i])\r\n",
        "\r\n",
        "\r\n",
        "def backtest(data, strategy, data_needed):\r\n",
        "    if not set(data_needed).issubset(set(data.columns)):\r\n",
        "        raise ValueError(\"data needed could not be collected\")\r\n",
        "    data_needed = data[data_needed]\r\n",
        "    buy_sell_points = strategy(data_needed)\r\n",
        "    result = Result(data, buy_sell_points)\r\n",
        "    return result"
      ],
      "execution_count": null,
      "outputs": []
    },
    {
      "cell_type": "markdown",
      "metadata": {
        "id": "lqVN9XBvfDN6"
      },
      "source": [
        "# Driver Code"
      ]
    },
    {
      "cell_type": "code",
      "metadata": {
        "id": "yHdI18WFetZq"
      },
      "source": [
        "data = get_data('WIPRO', '01-01-2017', '01-01-2018', 'EQ')\r\n",
        "\r\n",
        "try:\r\n",
        "    result = backtest(data, macd, ['date', 'close'])\r\n",
        "    print(\"Profit Generated: \", result.profit)\r\n",
        "except Exception as ex:\r\n",
        "    print(ex)\r\n"
      ],
      "execution_count": null,
      "outputs": []
    }
  ]
}