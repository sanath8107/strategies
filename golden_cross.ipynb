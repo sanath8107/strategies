{
  "nbformat": 4,
  "nbformat_minor": 0,
  "metadata": {
    "colab": {
      "name": "golden_cross.ipynb",
      "provenance": [],
      "authorship_tag": "ABX9TyOaA+xvEezqupoLAwLHW+9P",
      "include_colab_link": true
    },
    "kernelspec": {
      "name": "python3",
      "display_name": "Python 3"
    }
  },
  "cells": [
    {
      "cell_type": "markdown",
      "metadata": {
        "id": "view-in-github",
        "colab_type": "text"
      },
      "source": [
        "<a href=\"https://colab.research.google.com/github/sanath8107/strategies/blob/main/golden_cross.ipynb\" target=\"_parent\"><img src=\"https://colab.research.google.com/assets/colab-badge.svg\" alt=\"Open In Colab\"/></a>"
      ]
    },
    {
      "cell_type": "markdown",
      "metadata": {
        "id": "FX_6sznkMeIx"
      },
      "source": [
        "The golden cross is a bullish signal in which a  short-term moving average crosses above a long-term moving average. \r\n",
        "\r\n",
        "The golden cross is a bullish breakout pattern formed from a crossover involving a security's short-term moving average (such as the 15-day moving average) breaking above its long-term moving average (such as the 50-day moving average) or resistance level. \r\n",
        "\r\n",
        "As long-term indicators carry more weight, the golden cross indicates a bull market on the horizon and is reinforced by high trading volumes.\r\n",
        "\r\n",
        "Author: chandan naik"
      ]
    },
    {
      "cell_type": "code",
      "metadata": {
        "id": "woqy2HscMARd"
      },
      "source": [
        "#Import libraries\r\n",
        "import pandas as pd\r\n",
        "import numpy as np\r\n",
        "import matplotlib.pyplot as plt\r\n",
        "plt.style.use('fivethirtyeight')"
      ],
      "execution_count": 1,
      "outputs": []
    },
    {
      "cell_type": "code",
      "metadata": {
        "colab": {
          "resources": {
            "http://localhost:8080/nbextensions/google.colab/files.js": {
              "data": "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",
              "ok": true,
              "headers": [
                [
                  "content-type",
                  "application/javascript"
                ]
              ],
              "status": 200,
              "status_text": ""
            }
          },
          "base_uri": "https://localhost:8080/",
          "height": 72
        },
        "id": "SYjZouc9M8pg",
        "outputId": "e37f74a4-7685-4d57-a931-9ed3068919a2"
      },
      "source": [
        "#Load the dta\r\n",
        "from google.colab import files\r\n",
        "uploaded=files.upload()"
      ],
      "execution_count": 24,
      "outputs": [
        {
          "output_type": "display_data",
          "data": {
            "text/html": [
              "\n",
              "     <input type=\"file\" id=\"files-acef3f34-e4ec-4015-b9c5-be3887451e45\" name=\"files[]\" multiple disabled\n",
              "        style=\"border:none\" />\n",
              "     <output id=\"result-acef3f34-e4ec-4015-b9c5-be3887451e45\">\n",
              "      Upload widget is only available when the cell has been executed in the\n",
              "      current browser session. Please rerun this cell to enable.\n",
              "      </output>\n",
              "      <script src=\"/nbextensions/google.colab/files.js\"></script> "
            ],
            "text/plain": [
              "<IPython.core.display.HTML object>"
            ]
          },
          "metadata": {
            "tags": []
          }
        },
        {
          "output_type": "stream",
          "text": [
            "Saving YESB Historical Data.csv to YESB Historical Data (1).csv\n"
          ],
          "name": "stdout"
        }
      ]
    },
    {
      "cell_type": "code",
      "metadata": {
        "colab": {
          "base_uri": "https://localhost:8080/",
          "height": 419
        },
        "id": "xX_KkqtyNAmu",
        "outputId": "3526562b-e43e-4d54-961e-ebe1d35d2653"
      },
      "source": [
        "#store the data into a df\r\n",
        "df = pd.read_csv('YESB Historical Data.csv')\r\n",
        "#set the date to be the index\r\n",
        "# df = df.set_index(pd.DatetimeIndex(df['Date'].values))\r\n",
        "df"
      ],
      "execution_count": 25,
      "outputs": [
        {
          "output_type": "execute_result",
          "data": {
            "text/html": [
              "<div>\n",
              "<style scoped>\n",
              "    .dataframe tbody tr th:only-of-type {\n",
              "        vertical-align: middle;\n",
              "    }\n",
              "\n",
              "    .dataframe tbody tr th {\n",
              "        vertical-align: top;\n",
              "    }\n",
              "\n",
              "    .dataframe thead th {\n",
              "        text-align: right;\n",
              "    }\n",
              "</style>\n",
              "<table border=\"1\" class=\"dataframe\">\n",
              "  <thead>\n",
              "    <tr style=\"text-align: right;\">\n",
              "      <th></th>\n",
              "      <th>Date</th>\n",
              "      <th>Price</th>\n",
              "      <th>Open</th>\n",
              "      <th>High</th>\n",
              "      <th>Low</th>\n",
              "      <th>Vol.</th>\n",
              "      <th>Change %</th>\n",
              "    </tr>\n",
              "  </thead>\n",
              "  <tbody>\n",
              "    <tr>\n",
              "      <th>0</th>\n",
              "      <td>Oct 12, 2018</td>\n",
              "      <td>246.45</td>\n",
              "      <td>248.25</td>\n",
              "      <td>253.95</td>\n",
              "      <td>245.05</td>\n",
              "      <td>43.54M</td>\n",
              "      <td>2.60%</td>\n",
              "    </tr>\n",
              "    <tr>\n",
              "      <th>1</th>\n",
              "      <td>Oct 11, 2018</td>\n",
              "      <td>240.20</td>\n",
              "      <td>222.00</td>\n",
              "      <td>268.95</td>\n",
              "      <td>216.65</td>\n",
              "      <td>94.68M</td>\n",
              "      <td>2.69%</td>\n",
              "    </tr>\n",
              "    <tr>\n",
              "      <th>2</th>\n",
              "      <td>Oct 10, 2018</td>\n",
              "      <td>233.90</td>\n",
              "      <td>229.00</td>\n",
              "      <td>237.00</td>\n",
              "      <td>219.40</td>\n",
              "      <td>52.35M</td>\n",
              "      <td>4.12%</td>\n",
              "    </tr>\n",
              "    <tr>\n",
              "      <th>3</th>\n",
              "      <td>Oct 09, 2018</td>\n",
              "      <td>224.65</td>\n",
              "      <td>225.50</td>\n",
              "      <td>233.80</td>\n",
              "      <td>222.60</td>\n",
              "      <td>49.48M</td>\n",
              "      <td>1.56%</td>\n",
              "    </tr>\n",
              "    <tr>\n",
              "      <th>4</th>\n",
              "      <td>Oct 08, 2018</td>\n",
              "      <td>221.20</td>\n",
              "      <td>210.00</td>\n",
              "      <td>226.60</td>\n",
              "      <td>207.40</td>\n",
              "      <td>62.35M</td>\n",
              "      <td>7.38%</td>\n",
              "    </tr>\n",
              "    <tr>\n",
              "      <th>...</th>\n",
              "      <td>...</td>\n",
              "      <td>...</td>\n",
              "      <td>...</td>\n",
              "      <td>...</td>\n",
              "      <td>...</td>\n",
              "      <td>...</td>\n",
              "      <td>...</td>\n",
              "    </tr>\n",
              "    <tr>\n",
              "      <th>3281</th>\n",
              "      <td>Jul 19, 2005</td>\n",
              "      <td>12.79</td>\n",
              "      <td>13.00</td>\n",
              "      <td>13.00</td>\n",
              "      <td>12.62</td>\n",
              "      <td>25.45M</td>\n",
              "      <td>-0.23%</td>\n",
              "    </tr>\n",
              "    <tr>\n",
              "      <th>3282</th>\n",
              "      <td>Jul 18, 2005</td>\n",
              "      <td>12.82</td>\n",
              "      <td>12.54</td>\n",
              "      <td>13.14</td>\n",
              "      <td>12.50</td>\n",
              "      <td>75.68M</td>\n",
              "      <td>3.64%</td>\n",
              "    </tr>\n",
              "    <tr>\n",
              "      <th>3283</th>\n",
              "      <td>Jul 15, 2005</td>\n",
              "      <td>12.37</td>\n",
              "      <td>11.25</td>\n",
              "      <td>12.89</td>\n",
              "      <td>11.25</td>\n",
              "      <td>75.45M</td>\n",
              "      <td>8.03%</td>\n",
              "    </tr>\n",
              "    <tr>\n",
              "      <th>3284</th>\n",
              "      <td>Jul 14, 2005</td>\n",
              "      <td>11.45</td>\n",
              "      <td>12.00</td>\n",
              "      <td>12.00</td>\n",
              "      <td>11.40</td>\n",
              "      <td>16.28M</td>\n",
              "      <td>-2.47%</td>\n",
              "    </tr>\n",
              "    <tr>\n",
              "      <th>3285</th>\n",
              "      <td>Jul 13, 2005</td>\n",
              "      <td>11.74</td>\n",
              "      <td>12.20</td>\n",
              "      <td>12.60</td>\n",
              "      <td>11.49</td>\n",
              "      <td>64.11M</td>\n",
              "      <td>-3.53%</td>\n",
              "    </tr>\n",
              "  </tbody>\n",
              "</table>\n",
              "<p>3286 rows × 7 columns</p>\n",
              "</div>"
            ],
            "text/plain": [
              "              Date   Price    Open    High     Low    Vol. Change %\n",
              "0     Oct 12, 2018  246.45  248.25  253.95  245.05  43.54M    2.60%\n",
              "1     Oct 11, 2018  240.20  222.00  268.95  216.65  94.68M    2.69%\n",
              "2     Oct 10, 2018  233.90  229.00  237.00  219.40  52.35M    4.12%\n",
              "3     Oct 09, 2018  224.65  225.50  233.80  222.60  49.48M    1.56%\n",
              "4     Oct 08, 2018  221.20  210.00  226.60  207.40  62.35M    7.38%\n",
              "...            ...     ...     ...     ...     ...     ...      ...\n",
              "3281  Jul 19, 2005   12.79   13.00   13.00   12.62  25.45M   -0.23%\n",
              "3282  Jul 18, 2005   12.82   12.54   13.14   12.50  75.68M    3.64%\n",
              "3283  Jul 15, 2005   12.37   11.25   12.89   11.25  75.45M    8.03%\n",
              "3284  Jul 14, 2005   11.45   12.00   12.00   11.40  16.28M   -2.47%\n",
              "3285  Jul 13, 2005   11.74   12.20   12.60   11.49  64.11M   -3.53%\n",
              "\n",
              "[3286 rows x 7 columns]"
            ]
          },
          "metadata": {
            "tags": []
          },
          "execution_count": 25
        }
      ]
    },
    {
      "cell_type": "code",
      "metadata": {
        "id": "d16krYqANC3m"
      },
      "source": [
        "df['short'] =df.Price.ewm(span=50,adjust=False).mean()\r\n",
        "df['long'] = df.Price.ewm(span=200,adjust=False).mean()"
      ],
      "execution_count": 34,
      "outputs": []
    },
    {
      "cell_type": "code",
      "metadata": {
        "id": "pOrtU0ObNcAy"
      },
      "source": [
        "value = 1\r\n",
        "df['short-long'] =  df['short'] - df['long']"
      ],
      "execution_count": 35,
      "outputs": []
    },
    {
      "cell_type": "code",
      "metadata": {
        "id": "jlRRVKrASp8d"
      },
      "source": [
        "#Create a function to signal when to buy adn sell and asset\r\n",
        "def buy_sell(signal):\r\n",
        "  Buy = []\r\n",
        "  Sell = []\r\n",
        "  flag = -1\r\n",
        "\r\n",
        "  for i in range(0,len(signal)):\r\n",
        "    if signal['short-long'][i] > 0:\r\n",
        "      Sell.append(np.nan)\r\n",
        "      if flag != 1:\r\n",
        "        Buy.append(signal['Price'][i])\r\n",
        "        flag = 1\r\n",
        "      else:\r\n",
        "        Buy.append(np.nan)\r\n",
        "    elif signal['short-long'][i] < 0:\r\n",
        "      Buy.append(np.nan)\r\n",
        "      if flag != 0:\r\n",
        "        Sell.append(signal['Price'][i])\r\n",
        "        flag = 0\r\n",
        "      else:\r\n",
        "        Sell.append(np.nan) \r\n",
        "    else:\r\n",
        "      Buy.append(np.nan)\r\n",
        "      Sell.append(np.nan)\r\n",
        "    \r\n",
        "  return (Buy,Sell)"
      ],
      "execution_count": 36,
      "outputs": []
    },
    {
      "cell_type": "code",
      "metadata": {
        "id": "iq83eI_3eTIl"
      },
      "source": [
        "#Create Buy and sell column\r\n",
        "a = buy_sell(df)\r\n",
        "df['buy'] = a[0]\r\n",
        "df['sell'] = a[1]"
      ],
      "execution_count": 37,
      "outputs": []
    },
    {
      "cell_type": "code",
      "metadata": {
        "colab": {
          "base_uri": "https://localhost:8080/",
          "height": 323
        },
        "id": "q_vLY0rneXdl",
        "outputId": "e59d4033-0c97-4fe5-b658-4e63a3c99db8"
      },
      "source": [
        "plt.figure(figsize=(12.2,4.5))\r\n",
        "plt.scatter(df.index,df['buy'],color='green',label='Buy',marker='^',alpha=1)\r\n",
        "plt.scatter(df.index,df['sell'],color='red',label='Sell',marker='v',alpha=1)\r\n",
        "plt.plot(df['Price'],label='Close Price',alpha=0.35)\r\n",
        "plt.title('Price Buy and Sell Signals')\r\n",
        "plt.xlabel('Date')\r\n",
        "plt.ylabel('Close Price USD ($) ')\r\n",
        "plt.legend(loc='upper left')\r\n",
        "plt.show()"
      ],
      "execution_count": 38,
      "outputs": [
        {
          "output_type": "display_data",
          "data": {
            "image/png": "[encoded data removed]",
            "text/plain": [
              "<Figure size 878.4x324 with 1 Axes>"
            ]
          },
          "metadata": {
            "tags": [],
            "needs_background": "light"
          }
        }
      ]
    },
    {
      "cell_type": "code",
      "metadata": {
        "colab": {
          "base_uri": "https://localhost:8080/",
          "height": 419
        },
        "id": "DSIf0KtrrbvC",
        "outputId": "3477942a-c392-43be-d2a8-ed1e2455a49c"
      },
      "source": [
        "df"
      ],
      "execution_count": 41,
      "outputs": [
        {
          "output_type": "execute_result",
          "data": {
            "text/html": [
              "<div>\n",
              "<style scoped>\n",
              "    .dataframe tbody tr th:only-of-type {\n",
              "        vertical-align: middle;\n",
              "    }\n",
              "\n",
              "    .dataframe tbody tr th {\n",
              "        vertical-align: top;\n",
              "    }\n",
              "\n",
              "    .dataframe thead th {\n",
              "        text-align: right;\n",
              "    }\n",
              "</style>\n",
              "<table border=\"1\" class=\"dataframe\">\n",
              "  <thead>\n",
              "    <tr style=\"text-align: right;\">\n",
              "      <th></th>\n",
              "      <th>Date</th>\n",
              "      <th>Price</th>\n",
              "      <th>Open</th>\n",
              "      <th>High</th>\n",
              "      <th>Low</th>\n",
              "      <th>Vol.</th>\n",
              "      <th>Change %</th>\n",
              "      <th>short</th>\n",
              "      <th>long</th>\n",
              "      <th>short-long</th>\n",
              "      <th>regime</th>\n",
              "      <th>buy</th>\n",
              "      <th>sell</th>\n",
              "    </tr>\n",
              "  </thead>\n",
              "  <tbody>\n",
              "    <tr>\n",
              "      <th>0</th>\n",
              "      <td>Oct 12, 2018</td>\n",
              "      <td>246.45</td>\n",
              "      <td>248.25</td>\n",
              "      <td>253.95</td>\n",
              "      <td>245.05</td>\n",
              "      <td>43.54M</td>\n",
              "      <td>2.60%</td>\n",
              "      <td>246.450000</td>\n",
              "      <td>246.450000</td>\n",
              "      <td>0.000000</td>\n",
              "      <td>0</td>\n",
              "      <td>NaN</td>\n",
              "      <td>NaN</td>\n",
              "    </tr>\n",
              "    <tr>\n",
              "      <th>1</th>\n",
              "      <td>Oct 11, 2018</td>\n",
              "      <td>240.20</td>\n",
              "      <td>222.00</td>\n",
              "      <td>268.95</td>\n",
              "      <td>216.65</td>\n",
              "      <td>94.68M</td>\n",
              "      <td>2.69%</td>\n",
              "      <td>246.204902</td>\n",
              "      <td>246.387811</td>\n",
              "      <td>-0.182909</td>\n",
              "      <td>0</td>\n",
              "      <td>NaN</td>\n",
              "      <td>240.2</td>\n",
              "    </tr>\n",
              "    <tr>\n",
              "      <th>2</th>\n",
              "      <td>Oct 10, 2018</td>\n",
              "      <td>233.90</td>\n",
              "      <td>229.00</td>\n",
              "      <td>237.00</td>\n",
              "      <td>219.40</td>\n",
              "      <td>52.35M</td>\n",
              "      <td>4.12%</td>\n",
              "      <td>245.722357</td>\n",
              "      <td>246.263554</td>\n",
              "      <td>-0.541197</td>\n",
              "      <td>0</td>\n",
              "      <td>NaN</td>\n",
              "      <td>NaN</td>\n",
              "    </tr>\n",
              "    <tr>\n",
              "      <th>3</th>\n",
              "      <td>Oct 09, 2018</td>\n",
              "      <td>224.65</td>\n",
              "      <td>225.50</td>\n",
              "      <td>233.80</td>\n",
              "      <td>222.60</td>\n",
              "      <td>49.48M</td>\n",
              "      <td>1.56%</td>\n",
              "      <td>244.895990</td>\n",
              "      <td>246.048494</td>\n",
              "      <td>-1.152504</td>\n",
              "      <td>-1</td>\n",
              "      <td>NaN</td>\n",
              "      <td>NaN</td>\n",
              "    </tr>\n",
              "    <tr>\n",
              "      <th>4</th>\n",
              "      <td>Oct 08, 2018</td>\n",
              "      <td>221.20</td>\n",
              "      <td>210.00</td>\n",
              "      <td>226.60</td>\n",
              "      <td>207.40</td>\n",
              "      <td>62.35M</td>\n",
              "      <td>7.38%</td>\n",
              "      <td>243.966735</td>\n",
              "      <td>245.801245</td>\n",
              "      <td>-1.834510</td>\n",
              "      <td>-1</td>\n",
              "      <td>NaN</td>\n",
              "      <td>NaN</td>\n",
              "    </tr>\n",
              "    <tr>\n",
              "      <th>...</th>\n",
              "      <td>...</td>\n",
              "      <td>...</td>\n",
              "      <td>...</td>\n",
              "      <td>...</td>\n",
              "      <td>...</td>\n",
              "      <td>...</td>\n",
              "      <td>...</td>\n",
              "      <td>...</td>\n",
              "      <td>...</td>\n",
              "      <td>...</td>\n",
              "      <td>...</td>\n",
              "      <td>...</td>\n",
              "      <td>...</td>\n",
              "    </tr>\n",
              "    <tr>\n",
              "      <th>3281</th>\n",
              "      <td>Jul 19, 2005</td>\n",
              "      <td>12.79</td>\n",
              "      <td>13.00</td>\n",
              "      <td>13.00</td>\n",
              "      <td>12.62</td>\n",
              "      <td>25.45M</td>\n",
              "      <td>-0.23%</td>\n",
              "      <td>13.389520</td>\n",
              "      <td>15.134892</td>\n",
              "      <td>-1.745372</td>\n",
              "      <td>-1</td>\n",
              "      <td>NaN</td>\n",
              "      <td>NaN</td>\n",
              "    </tr>\n",
              "    <tr>\n",
              "      <th>3282</th>\n",
              "      <td>Jul 18, 2005</td>\n",
              "      <td>12.82</td>\n",
              "      <td>12.54</td>\n",
              "      <td>13.14</td>\n",
              "      <td>12.50</td>\n",
              "      <td>75.68M</td>\n",
              "      <td>3.64%</td>\n",
              "      <td>13.367186</td>\n",
              "      <td>15.111858</td>\n",
              "      <td>-1.744672</td>\n",
              "      <td>-1</td>\n",
              "      <td>NaN</td>\n",
              "      <td>NaN</td>\n",
              "    </tr>\n",
              "    <tr>\n",
              "      <th>3283</th>\n",
              "      <td>Jul 15, 2005</td>\n",
              "      <td>12.37</td>\n",
              "      <td>11.25</td>\n",
              "      <td>12.89</td>\n",
              "      <td>11.25</td>\n",
              "      <td>75.45M</td>\n",
              "      <td>8.03%</td>\n",
              "      <td>13.328080</td>\n",
              "      <td>15.084576</td>\n",
              "      <td>-1.756495</td>\n",
              "      <td>-1</td>\n",
              "      <td>NaN</td>\n",
              "      <td>NaN</td>\n",
              "    </tr>\n",
              "    <tr>\n",
              "      <th>3284</th>\n",
              "      <td>Jul 14, 2005</td>\n",
              "      <td>11.45</td>\n",
              "      <td>12.00</td>\n",
              "      <td>12.00</td>\n",
              "      <td>11.40</td>\n",
              "      <td>16.28M</td>\n",
              "      <td>-2.47%</td>\n",
              "      <td>13.254430</td>\n",
              "      <td>15.048411</td>\n",
              "      <td>-1.793981</td>\n",
              "      <td>-1</td>\n",
              "      <td>NaN</td>\n",
              "      <td>NaN</td>\n",
              "    </tr>\n",
              "    <tr>\n",
              "      <th>3285</th>\n",
              "      <td>Jul 13, 2005</td>\n",
              "      <td>11.74</td>\n",
              "      <td>12.20</td>\n",
              "      <td>12.60</td>\n",
              "      <td>11.49</td>\n",
              "      <td>64.11M</td>\n",
              "      <td>-3.53%</td>\n",
              "      <td>13.195041</td>\n",
              "      <td>15.015491</td>\n",
              "      <td>-1.820451</td>\n",
              "      <td>-1</td>\n",
              "      <td>NaN</td>\n",
              "      <td>NaN</td>\n",
              "    </tr>\n",
              "  </tbody>\n",
              "</table>\n",
              "<p>3286 rows × 13 columns</p>\n",
              "</div>"
            ],
            "text/plain": [
              "              Date   Price    Open    High  ...  short-long regime buy   sell\n",
              "0     Oct 12, 2018  246.45  248.25  253.95  ...    0.000000      0 NaN    NaN\n",
              "1     Oct 11, 2018  240.20  222.00  268.95  ...   -0.182909      0 NaN  240.2\n",
              "2     Oct 10, 2018  233.90  229.00  237.00  ...   -0.541197      0 NaN    NaN\n",
              "3     Oct 09, 2018  224.65  225.50  233.80  ...   -1.152504     -1 NaN    NaN\n",
              "4     Oct 08, 2018  221.20  210.00  226.60  ...   -1.834510     -1 NaN    NaN\n",
              "...            ...     ...     ...     ...  ...         ...    ...  ..    ...\n",
              "3281  Jul 19, 2005   12.79   13.00   13.00  ...   -1.745372     -1 NaN    NaN\n",
              "3282  Jul 18, 2005   12.82   12.54   13.14  ...   -1.744672     -1 NaN    NaN\n",
              "3283  Jul 15, 2005   12.37   11.25   12.89  ...   -1.756495     -1 NaN    NaN\n",
              "3284  Jul 14, 2005   11.45   12.00   12.00  ...   -1.793981     -1 NaN    NaN\n",
              "3285  Jul 13, 2005   11.74   12.20   12.60  ...   -1.820451     -1 NaN    NaN\n",
              "\n",
              "[3286 rows x 13 columns]"
            ]
          },
          "metadata": {
            "tags": []
          },
          "execution_count": 41
        }
      ]
    },
    {
      "cell_type": "code",
      "metadata": {
        "id": "Gc_bjX3peecs"
      },
      "source": [
        "first_buy = df['buy'].first_valid_index()\r\n",
        "last_sell = df['sell'].last_valid_index()\r\n",
        "profit = 0\r\n",
        "for i in range(first_buy, last_sell+1):\r\n",
        "    if df['buy'][i] is not np.nan and df['sell'][i] is np.nan:\r\n",
        "        profit -= float(df['buy'][i])\r\n",
        "    elif df['buy'][i] is np.nan and df['sell'][i] is not np.nan:\r\n",
        "        profit += float(df['sell'][i])\r\n",
        "print(\"Profit is: \", profit)"
      ],
      "execution_count": null,
      "outputs": []
    },
    {
      "cell_type": "code",
      "metadata": {
        "id": "17w7p1_2qV6r"
      },
      "source": [
        ""
      ],
      "execution_count": null,
      "outputs": []
    }
  ]
}